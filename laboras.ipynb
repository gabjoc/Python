{
 "cells": [
  {
   "attachments": {},
   "cell_type": "markdown",
   "metadata": {},
   "source": [
    "# 3 laboratorinis darbas"
   ]
  },
  {
   "attachments": {},
   "cell_type": "markdown",
   "metadata": {},
   "source": [
    "1 užduotis"
   ]
  },
  {
   "cell_type": "code",
   "execution_count": 5,
   "metadata": {},
   "outputs": [],
   "source": [
    "import pandas as pd\n",
    "file = pd.read_csv('Pacientas1.csv', skiprows=[1]) #for correctly reading data types"
   ]
  },
  {
   "cell_type": "code",
   "execution_count": 11,
   "metadata": {},
   "outputs": [
    {
     "name": "stdout",
     "output_type": "stream",
     "text": [
      "Dimensija:\t (7871871, 7)\n",
      "  Elapsed time    ECG    EMG  foot GSR  hand GSR    HR    RESP\n",
      "0     0:00.000 -0.042  0.007     2.503    11.149  84.0  10.948\n",
      "1     0:00.001 -0.042  0.019     2.503    11.149  84.0  10.948\n",
      "2     0:00.001 -0.042  0.002     2.503    11.149  84.0  10.948\n",
      "3     0:00.002 -0.042  0.030     2.503    11.149  84.0  10.948\n",
      "4     0:00.002 -0.038  0.011     2.503    11.149  84.0  10.948\n",
      "        Elapsed time    ECG    EMG  foot GSR  hand GSR    HR    RESP\n",
      "7871866  1:06:07.674  0.028  0.002     1.787     23.79  94.0  11.828\n",
      "7871867  1:06:07.675  0.028  0.011     1.787     23.79  94.0  11.828\n",
      "7871868  1:06:07.675  0.033  0.019     1.787     23.79  94.0  11.828\n",
      "7871869  1:06:07.676  0.033  0.024     1.787     23.79  94.0  11.828\n",
      "7871870  1:06:07.676  0.033  0.027     1.787     23.79  94.0  11.828\n",
      "Kintamieji:\t Index(['Elapsed time', 'ECG', 'EMG', 'foot GSR', 'hand GSR', 'HR', 'RESP'], dtype='object')\n",
      "Tipai:\n",
      " Elapsed time     object\n",
      "ECG             float64\n",
      "EMG             float64\n",
      "foot GSR        float64\n",
      "hand GSR        float64\n",
      "HR              float64\n",
      "RESP            float64\n",
      "dtype: object\n"
     ]
    }
   ],
   "source": [
    "print(\"Dimensija:\\t\", file.shape)\n",
    "#print(file.head()) #paziurejimui kaip atrodo sita nesamone:)\n",
    "#print(file.tail())\n",
    "print(\"Kintamieji:\\t\", file.columns)\n",
    "print(\"Tipai:\\n\", file.dtypes)"
   ]
  },
  {
   "cell_type": "code",
   "execution_count": 7,
   "metadata": {},
   "outputs": [],
   "source": [
    "# deleting ' ' in columns name\n",
    "file.columns = file.columns.str.replace(\"'\", \"\")\n",
    "file['Elapsed time'] = file['Elapsed time'].str.replace(\"'\", \"\")"
   ]
  },
  {
   "cell_type": "code",
   "execution_count": 14,
   "metadata": {},
   "outputs": [],
   "source": [
    "def convert_elapsed_time(time_str):\n",
    "    if time_str.count(':') == 2:\n",
    "        return pd.to_datetime(time_str, format='%H:%M:%S.%f')\n",
    "    else:\n",
    "        return pd.to_datetime(time_str, format='%M:%S.%f')\n",
    "\n",
    "file['Elapsed time'] = file['Elapsed time'].apply(convert_elapsed_time)"
   ]
  }
 ],
 "metadata": {
  "kernelspec": {
   "display_name": "Python 3",
   "language": "python",
   "name": "python3"
  },
  "language_info": {
   "codemirror_mode": {
    "name": "ipython",
    "version": 3
   },
   "file_extension": ".py",
   "mimetype": "text/x-python",
   "name": "python",
   "nbconvert_exporter": "python",
   "pygments_lexer": "ipython3",
   "version": "3.11.2"
  },
  "orig_nbformat": 4
 },
 "nbformat": 4,
 "nbformat_minor": 2
}
