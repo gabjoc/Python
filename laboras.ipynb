{
 "cells": [
  {
   "attachments": {},
   "cell_type": "markdown",
   "metadata": {},
   "source": [
    "# 3 laboratorinis darbas"
   ]
  },
  {
   "attachments": {},
   "cell_type": "markdown",
   "metadata": {},
   "source": [
    "1 užduotis"
   ]
  },
  {
   "cell_type": "code",
   "execution_count": 5,
   "metadata": {},
   "outputs": [],
   "source": [
    "import pandas as pd\n",
    "file = pd.read_csv('Pacientas1.csv', skiprows=[1]) #for correctly reading data types"
   ]
  },
  {
   "cell_type": "code",
   "execution_count": 6,
   "metadata": {},
   "outputs": [
    {
     "name": "stdout",
     "output_type": "stream",
     "text": [
      "Dimensija:\t (7871871, 7)\n",
      "Kintamieji:\t Index([''Elapsed time'', ''ECG'', ''EMG'', ''foot GSR'', ''hand GSR'', ''HR'',\n",
      "       ''RESP''],\n",
      "      dtype='object')\n",
      "Tipai:\n",
      " 'Elapsed time'     object\n",
      "'ECG'             float64\n",
      "'EMG'             float64\n",
      "'foot GSR'        float64\n",
      "'hand GSR'        float64\n",
      "'HR'              float64\n",
      "'RESP'            float64\n",
      "dtype: object\n"
     ]
    }
   ],
   "source": [
    "print(\"Dimensija:\\t\", file.shape)\n",
    "#print(file.head()) #paziurejimui kaip atrodo sita nesamone:)\n",
    "#print(file.tail())\n",
    "print(\"Kintamieji:\\t\", file.columns)\n",
    "print(\"Tipai:\\n\", file.dtypes)"
   ]
  },
  {
   "cell_type": "code",
   "execution_count": 7,
   "metadata": {},
   "outputs": [],
   "source": [
    "# deleting ' ' in columns name\n",
    "file.columns = file.columns.str.replace(\"'\", \"\")\n",
    "file['Elapsed time'] = file['Elapsed time'].str.replace(\"'\", \"\")"
   ]
  },
  {
   "cell_type": "code",
   "execution_count": 8,
   "metadata": {},
   "outputs": [
    {
     "name": "stdout",
     "output_type": "stream",
     "text": [
      "Unexpected exception formatting exception. Falling back to standard exception\n"
     ]
    },
    {
     "name": "stderr",
     "output_type": "stream",
     "text": [
      "Traceback (most recent call last):\n",
      "  File \"pandas\\_libs\\tslibs\\parsing.pyx\", line 679, in pandas._libs.tslibs.parsing.dateutil_parse\n",
      "ValueError: hour must be in 0..23\n",
      "\n",
      "The above exception was the direct cause of the following exception:\n",
      "\n",
      "Traceback (most recent call last):\n",
      "  File \"C:\\Users\\Gabija\\AppData\\Roaming\\Python\\Python311\\site-packages\\IPython\\core\\interactiveshell.py\", line 3460, in run_code\n",
      "    exec(code_obj, self.user_global_ns, self.user_ns)\n",
      "  File \"C:\\Users\\Gabija\\AppData\\Local\\Temp\\ipykernel_13852\\1147081919.py\", line 1, in <module>\n",
      "    file['Elapsed time'] = pd.to_datetime(file['Elapsed time'], format='mixed')\n",
      "                           ^^^^^^^^^^^^^^^^^^^^^^^^^^^^^^^^^^^^^^^^^^^^^^^^^^^^\n",
      "  File \"C:\\Users\\Gabija\\AppData\\Roaming\\Python\\Python311\\site-packages\\pandas\\core\\tools\\datetimes.py\", line 1046, in to_datetime\n",
      "    cache_array = _maybe_cache(arg, format, cache, convert_listlike)\n",
      "                  ^^^^^^^^^^^^^^^^^^^^^^^^^^^^^^^^^^^^^^^^^^^^^^^^^^\n",
      "  File \"C:\\Users\\Gabija\\AppData\\Roaming\\Python\\Python311\\site-packages\\pandas\\core\\tools\\datetimes.py\", line 250, in _maybe_cache\n",
      "    cache_dates = convert_listlike(unique_dates, format)\n",
      "                  ^^^^^^^^^^^^^^^^^^^^^^^^^^^^^^^^^^^^^^\n",
      "  File \"C:\\Users\\Gabija\\AppData\\Roaming\\Python\\Python311\\site-packages\\pandas\\core\\tools\\datetimes.py\", line 455, in _convert_listlike_datetimes\n",
      "    result, tz_parsed = objects_to_datetime64ns(\n",
      "                        ^^^^^^^^^^^^^^^^^^^^^^^^\n",
      "  File \"C:\\Users\\Gabija\\AppData\\Roaming\\Python\\Python311\\site-packages\\pandas\\core\\arrays\\datetimes.py\", line 2177, in objects_to_datetime64ns\n",
      "    result, tz_parsed = tslib.array_to_datetime(\n",
      "                        ^^^^^^^^^^^^^^^^^^^^^^^^\n",
      "  File \"pandas\\_libs\\tslib.pyx\", line 402, in pandas._libs.tslib.array_to_datetime\n",
      "  File \"pandas\\_libs\\tslib.pyx\", line 551, in pandas._libs.tslib.array_to_datetime\n",
      "  File \"pandas\\_libs\\tslib.pyx\", line 516, in pandas._libs.tslib.array_to_datetime\n",
      "  File \"pandas\\_libs\\tslibs\\conversion.pyx\", line 557, in pandas._libs.tslibs.conversion.convert_str_to_tsobject\n",
      "  File \"pandas\\_libs\\tslibs\\parsing.pyx\", line 329, in pandas._libs.tslibs.parsing.parse_datetime_string\n",
      "  File \"pandas\\_libs\\tslibs\\parsing.pyx\", line 683, in pandas._libs.tslibs.parsing.dateutil_parse\n",
      "pandas._libs.tslibs.parsing.DateParseError: hour must be in 0..23: 24:00.000, at position 1440000\n",
      "\n",
      "During handling of the above exception, another exception occurred:\n",
      "\n",
      "Traceback (most recent call last):\n",
      "  File \"C:\\Users\\Gabija\\AppData\\Roaming\\Python\\Python311\\site-packages\\IPython\\core\\interactiveshell.py\", line 2057, in showtraceback\n",
      "    stb = self.InteractiveTB.structured_traceback(\n",
      "          ^^^^^^^^^^^^^^^^^^^^^^^^^^^^^^^^^^^^^^^^\n",
      "  File \"C:\\Users\\Gabija\\AppData\\Roaming\\Python\\Python311\\site-packages\\IPython\\core\\ultratb.py\", line 1288, in structured_traceback\n",
      "    return FormattedTB.structured_traceback(\n",
      "           ^^^^^^^^^^^^^^^^^^^^^^^^^^^^^^^^^\n",
      "  File \"C:\\Users\\Gabija\\AppData\\Roaming\\Python\\Python311\\site-packages\\IPython\\core\\ultratb.py\", line 1177, in structured_traceback\n",
      "    return VerboseTB.structured_traceback(\n",
      "           ^^^^^^^^^^^^^^^^^^^^^^^^^^^^^^^\n",
      "  File \"C:\\Users\\Gabija\\AppData\\Roaming\\Python\\Python311\\site-packages\\IPython\\core\\ultratb.py\", line 1049, in structured_traceback\n",
      "    formatted_exceptions += self.format_exception_as_a_whole(etype, evalue, etb, lines_of_context,\n",
      "                            ^^^^^^^^^^^^^^^^^^^^^^^^^^^^^^^^^^^^^^^^^^^^^^^^^^^^^^^^^^^^^^^^^^^^^^\n",
      "  File \"C:\\Users\\Gabija\\AppData\\Roaming\\Python\\Python311\\site-packages\\IPython\\core\\ultratb.py\", line 935, in format_exception_as_a_whole\n",
      "    self.get_records(etb, number_of_lines_of_context, tb_offset) if etb else []\n",
      "    ^^^^^^^^^^^^^^^^^^^^^^^^^^^^^^^^^^^^^^^^^^^^^^^^^^^^^^^^^^^^\n",
      "  File \"C:\\Users\\Gabija\\AppData\\Roaming\\Python\\Python311\\site-packages\\IPython\\core\\ultratb.py\", line 1003, in get_records\n",
      "    lines, first = inspect.getsourcelines(etb.tb_frame)\n",
      "                   ^^^^^^^^^^^^^^^^^^^^^^^^^^^^^^^^^^^^\n",
      "  File \"c:\\Program Files\\Python311\\Lib\\inspect.py\", line 1244, in getsourcelines\n",
      "    lines, lnum = findsource(object)\n",
      "                  ^^^^^^^^^^^^^^^^^^\n",
      "  File \"c:\\Program Files\\Python311\\Lib\\inspect.py\", line 1081, in findsource\n",
      "    raise OSError('could not get source code')\n",
      "OSError: could not get source code\n"
     ]
    }
   ],
   "source": [
    "file['Elapsed time'] = pd.to_datetime(file['Elapsed time'], format='mixed')"
   ]
  }
 ],
 "metadata": {
  "kernelspec": {
   "display_name": "Python 3",
   "language": "python",
   "name": "python3"
  },
  "language_info": {
   "codemirror_mode": {
    "name": "ipython",
    "version": 3
   },
   "file_extension": ".py",
   "mimetype": "text/x-python",
   "name": "python",
   "nbconvert_exporter": "python",
   "pygments_lexer": "ipython3",
   "version": "3.11.2"
  },
  "orig_nbformat": 4
 },
 "nbformat": 4,
 "nbformat_minor": 2
}
